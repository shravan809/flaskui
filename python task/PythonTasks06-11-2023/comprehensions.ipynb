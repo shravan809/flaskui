{
 "cells": [
  {
   "cell_type": "markdown",
   "id": "d5df8d48",
   "metadata": {},
   "source": [
    "## comprehensions"
   ]
  },
  {
   "cell_type": "code",
   "execution_count": 43,
   "id": "dedcb31a",
   "metadata": {},
   "outputs": [
    {
     "name": "stdout",
     "output_type": "stream",
     "text": [
      "{'jay': 2, 'vedha': 2, 'chaithu': 1, 'ram': 1, 'anvesh': 2}\n"
     ]
    }
   ],
   "source": [
    "l=[\"jay\",\"vedha\",\"chaithu\",\"jay\",\"ram\",\"anvesh\",\"anvesh\",\"vedha\"]\n",
    "res = {\"jay\":3,\"vedha\":2,\"chaithu\":1,\"ram\":1,\"anvesh\":1}\n",
    "d={}\n",
    "for i in l:\n",
    "    if i not in d:\n",
    "        d[i]=1\n",
    "    else:\n",
    "        d[i]+=1\n",
    "print(d)"
   ]
  },
  {
   "cell_type": "code",
   "execution_count": 44,
   "id": "7cd3b25e",
   "metadata": {},
   "outputs": [
    {
     "name": "stdout",
     "output_type": "stream",
     "text": [
      "defaultdict(<class 'int'>, {'jay': 3, 'vedha': 1, 'chaithu': 1, 'ram': 2, 'anvesh': 1})\n"
     ]
    }
   ],
   "source": [
    "from collections import defaultdict\n",
    "l=[\"jay\",\"vedha\",\"chaithu\",\"ram\",\"ram\",\"anvesh\",\"jay\",\"jay\"]\n",
    "res = {\"jay\":3,\"vedha\":2,\"chaithu\":1,\"ram\":1,\"anvesh\":1}\n",
    "d=defaultdict(int)\n",
    "for i in l:\n",
    "    d[i]+=1\n",
    "print(d)\n"
   ]
  },
  {
   "cell_type": "code",
   "execution_count": 45,
   "id": "bb1a06a5",
   "metadata": {},
   "outputs": [
    {
     "name": "stdout",
     "output_type": "stream",
     "text": [
      "0\n"
     ]
    }
   ],
   "source": [
    "from collections import defaultdict\n",
    "d=defaultdict(int)\n",
    "print(d[\"ram\"])"
   ]
  },
  {
   "cell_type": "code",
   "execution_count": 46,
   "id": "c561fc49",
   "metadata": {},
   "outputs": [
    {
     "name": "stdout",
     "output_type": "stream",
     "text": [
      "dict_items([('rahul', 60), ('rohit', 60), ('kohli', 100), ('jadeja', 40), ('gil', 90), ('hardik', 55)])\n"
     ]
    }
   ],
   "source": [
    "d={\"rahul\":60,\"rohit\":60,\"kohli\":100,\"jadeja\":40,\"gil\":90,\"hardik\":55}\n",
    "print(d.items())"
   ]
  },
  {
   "cell_type": "code",
   "execution_count": 47,
   "id": "bfbe8b98",
   "metadata": {},
   "outputs": [
    {
     "name": "stdout",
     "output_type": "stream",
     "text": [
      "dict_items([('rahul', 60), ('rohit', 60), ('kohli', 100), ('jadeja', 40), ('gil', 90), ('hardik', 55)])\n",
      "60\n",
      "60\n",
      "100\n",
      "40\n",
      "90\n",
      "55\n"
     ]
    }
   ],
   "source": [
    "d={\"rahul\":60,\"rohit\":60,\"kohli\":100,\"jadeja\":40,\"gil\":90,\"hardik\":55}\n",
    "print(d.items())\n",
    "for i in d.items():\n",
    "    key,value=i\n",
    "    print(value)"
   ]
  },
  {
   "cell_type": "code",
   "execution_count": 48,
   "id": "7ff7bfaa",
   "metadata": {},
   "outputs": [
    {
     "name": "stdout",
     "output_type": "stream",
     "text": [
      "60\n",
      "60\n",
      "100\n",
      "40\n",
      "90\n",
      "55\n"
     ]
    }
   ],
   "source": [
    "d={\"rahul\":60,\"rohit\":60,\"kohli\":100,\"jadeja\":40,\"gil\":90,\"hardik\":55}\n",
    "res={}\n",
    "for key,value in d.items():\n",
    "    print(value)"
   ]
  },
  {
   "cell_type": "code",
   "execution_count": 49,
   "id": "bd33c7af",
   "metadata": {},
   "outputs": [
    {
     "name": "stdout",
     "output_type": "stream",
     "text": [
      "{60: ['rahul', 'rohit'], 100: ['kohli'], 40: ['jadeja'], 90: ['gil'], 55: ['hardik']}\n"
     ]
    }
   ],
   "source": [
    "d={\"rahul\":60,\"rohit\":60,\"kohli\":100,\"jadeja\":40,\"gil\":90,\"hardik\":55}\n",
    "res={}\n",
    "for key,value in d.items():\n",
    "    if value not in res:\n",
    "        res[value]=[key]\n",
    "    else:\n",
    "        res[value].append(key)\n",
    "print(res)\n"
   ]
  },
  {
   "cell_type": "code",
   "execution_count": 52,
   "id": "3d7a82ce",
   "metadata": {},
   "outputs": [
    {
     "name": "stdout",
     "output_type": "stream",
     "text": [
      "Counter({'a': 4, 'c': 4, 'b': 3, 'd': 3})\n"
     ]
    }
   ],
   "source": [
    "from collections import Counter\n",
    "st='abcdabcdabcdac'\n",
    "print(Counter(st))"
   ]
  },
  {
   "cell_type": "code",
   "execution_count": 53,
   "id": "da543a8d",
   "metadata": {},
   "outputs": [
    {
     "data": {
      "text/plain": [
       "Counter({'rahul': 75,\n",
       "         'rohit': 75,\n",
       "         'kohli': 75,\n",
       "         'jadeja': 40,\n",
       "         'gil': 78,\n",
       "         'hardik': 45})"
      ]
     },
     "execution_count": 53,
     "metadata": {},
     "output_type": "execute_result"
    }
   ],
   "source": [
    "d={'rahul':75,'rohit':75,'kohli':75,'jadeja':40,'gil':78,'hardik':45}\n",
    "Counter(d)"
   ]
  },
  {
   "cell_type": "code",
   "execution_count": null,
   "id": "2e25f8ce",
   "metadata": {},
   "outputs": [],
   "source": []
  }
 ],
 "metadata": {
  "kernelspec": {
   "display_name": "Python 3 (ipykernel)",
   "language": "python",
   "name": "python3"
  },
  "language_info": {
   "codemirror_mode": {
    "name": "ipython",
    "version": 3
   },
   "file_extension": ".py",
   "mimetype": "text/x-python",
   "name": "python",
   "nbconvert_exporter": "python",
   "pygments_lexer": "ipython3",
   "version": "3.9.7"
  }
 },
 "nbformat": 4,
 "nbformat_minor": 5
}
