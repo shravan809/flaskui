{
 "cells": [
  {
   "cell_type": "code",
   "execution_count": 1,
   "id": "dbd951ff",
   "metadata": {},
   "outputs": [
    {
     "name": "stdout",
     "output_type": "stream",
     "text": [
      "20\n"
     ]
    }
   ],
   "source": [
    "def mul(x,y):\n",
    "    return x*y\n",
    "print(mul(10,2))"
   ]
  },
  {
   "cell_type": "code",
   "execution_count": 2,
   "id": "2a00ede9",
   "metadata": {},
   "outputs": [
    {
     "name": "stdout",
     "output_type": "stream",
     "text": [
      "<function fun at 0x00000274EF1A74C0>\n",
      "30\n",
      "3\n",
      "\n",
      "<class 'function'> 2701170455152\n"
     ]
    }
   ],
   "source": [
    "def fun(x,y):\n",
    "    return x+y\n",
    "res=fun\n",
    "print(res)\n",
    "r1=fun(10,20)\n",
    "r2=res(1,2)\n",
    "print(r1)\n",
    "print(r2)\n",
    "print()\n",
    "print(type(fun),id(id))"
   ]
  },
  {
   "cell_type": "code",
   "execution_count": 3,
   "id": "84468ca4",
   "metadata": {},
   "outputs": [
    {
     "name": "stdout",
     "output_type": "stream",
     "text": [
      "10\n"
     ]
    },
    {
     "ename": "TypeError",
     "evalue": "fun() got some positional-only arguments passed as keyword arguments: 'x'",
     "output_type": "error",
     "traceback": [
      "\u001b[1;31m---------------------------------------------------------------------------\u001b[0m",
      "\u001b[1;31mTypeError\u001b[0m                                 Traceback (most recent call last)",
      "\u001b[1;32m~\\AppData\\Local\\Temp/ipykernel_18504/4081642481.py\u001b[0m in \u001b[0;36m<module>\u001b[1;34m\u001b[0m\n\u001b[0;32m      2\u001b[0m     \u001b[0mprint\u001b[0m\u001b[1;33m(\u001b[0m\u001b[0mx\u001b[0m\u001b[1;33m)\u001b[0m\u001b[1;33m\u001b[0m\u001b[1;33m\u001b[0m\u001b[0m\n\u001b[0;32m      3\u001b[0m \u001b[0mfun\u001b[0m\u001b[1;33m(\u001b[0m\u001b[1;36m10\u001b[0m\u001b[1;33m)\u001b[0m\u001b[1;33m\u001b[0m\u001b[1;33m\u001b[0m\u001b[0m\n\u001b[1;32m----> 4\u001b[1;33m \u001b[0mfun\u001b[0m\u001b[1;33m(\u001b[0m\u001b[0mx\u001b[0m\u001b[1;33m=\u001b[0m\u001b[1;36m10\u001b[0m\u001b[1;33m)\u001b[0m\u001b[1;33m\u001b[0m\u001b[1;33m\u001b[0m\u001b[0m\n\u001b[0m",
      "\u001b[1;31mTypeError\u001b[0m: fun() got some positional-only arguments passed as keyword arguments: 'x'"
     ]
    }
   ],
   "source": [
    "def fun(x,/):\n",
    "    print(x)\n",
    "fun(10)\n",
    "fun(x=10)"
   ]
  },
  {
   "cell_type": "code",
   "execution_count": 4,
   "id": "5abed1c8",
   "metadata": {},
   "outputs": [
    {
     "name": "stdout",
     "output_type": "stream",
     "text": [
      "10\n"
     ]
    },
    {
     "ename": "TypeError",
     "evalue": "fun() takes 0 positional arguments but 1 was given",
     "output_type": "error",
     "traceback": [
      "\u001b[1;31m---------------------------------------------------------------------------\u001b[0m",
      "\u001b[1;31mTypeError\u001b[0m                                 Traceback (most recent call last)",
      "\u001b[1;32m~\\AppData\\Local\\Temp/ipykernel_18504/1118331007.py\u001b[0m in \u001b[0;36m<module>\u001b[1;34m\u001b[0m\n\u001b[0;32m      2\u001b[0m     \u001b[0mprint\u001b[0m\u001b[1;33m(\u001b[0m\u001b[0mx\u001b[0m\u001b[1;33m)\u001b[0m\u001b[1;33m\u001b[0m\u001b[1;33m\u001b[0m\u001b[0m\n\u001b[0;32m      3\u001b[0m \u001b[0mfun\u001b[0m\u001b[1;33m(\u001b[0m\u001b[0mx\u001b[0m\u001b[1;33m=\u001b[0m\u001b[1;36m10\u001b[0m\u001b[1;33m)\u001b[0m\u001b[1;33m\u001b[0m\u001b[1;33m\u001b[0m\u001b[0m\n\u001b[1;32m----> 4\u001b[1;33m \u001b[0mfun\u001b[0m\u001b[1;33m(\u001b[0m\u001b[1;36m10\u001b[0m\u001b[1;33m)\u001b[0m\u001b[1;33m\u001b[0m\u001b[1;33m\u001b[0m\u001b[0m\n\u001b[0m",
      "\u001b[1;31mTypeError\u001b[0m: fun() takes 0 positional arguments but 1 was given"
     ]
    }
   ],
   "source": [
    "def fun(*,x):\n",
    "    print(x)\n",
    "fun(x=10)\n",
    "fun(10)\n"
   ]
  },
  {
   "cell_type": "code",
   "execution_count": 5,
   "id": "042761c6",
   "metadata": {},
   "outputs": [
    {
     "data": {
      "text/plain": [
       "<generator object get at 0x00000274EF25B820>"
      ]
     },
     "execution_count": 5,
     "metadata": {},
     "output_type": "execute_result"
    }
   ],
   "source": [
    "def get(x):\n",
    "    print('started')\n",
    "    return x\n",
    "    yield x\n",
    "    \n",
    "get(10)\n"
   ]
  },
  {
   "cell_type": "code",
   "execution_count": 6,
   "id": "880e5eb5",
   "metadata": {},
   "outputs": [
    {
     "name": "stdout",
     "output_type": "stream",
     "text": [
      "['user', 'user3', 'user2', 'user4']\n",
      "['p1', 'p3', 'P2', 'P4']\n",
      "['o1', 'o3', 'o2', 'o4']\n"
     ]
    }
   ],
   "source": [
    "def get_users():\n",
    "    return ['user','user3','user2','user4']\n",
    "def get_products():\n",
    "    return['p1','p3','P2','P4']\n",
    "def get_orders():\n",
    "    return['o1','o3','o2','o4']\n",
    "\n",
    "print(get_users())\n",
    "print(get_products())\n",
    "print(get_orders())\n",
    "    "
   ]
  },
  {
   "cell_type": "code",
   "execution_count": 7,
   "id": "93455d99",
   "metadata": {},
   "outputs": [
    {
     "name": "stdout",
     "output_type": "stream",
     "text": [
      "['user1', 'user3', 'user2', 'user4']\n",
      "res= ['user1', 'user2', 'user3', 'user4']\n",
      "['p1', 'p3', 'p2', 'p4']\n",
      "res= ['p1', 'p2', 'p3', 'p4']\n",
      "['o1', 'o3', 'o2', 'o4']\n",
      "res= ['o1', 'o2', 'o3', 'o4']\n"
     ]
    }
   ],
   "source": [
    "def order_data(f):#f=get_user\n",
    "    def wrapper():\n",
    "        res=f()\n",
    "        print(res)\n",
    "        res.sort()\n",
    "        return res\n",
    "    return wrapper\n",
    "@order_data\n",
    "def get_users():\n",
    "    return [\"user1\",\"user3\",\"user2\",\"user4\"]\n",
    "@order_data\n",
    "def get_products():\n",
    "    return [\"p1\",\"p3\",\"p2\",\"p4\"]\n",
    "@order_data\n",
    "def get_orders():\n",
    "    return [\"o1\",\"o3\",\"o2\",\"o4\"]\n",
    "res=get_users()\n",
    "print(\"res=\",res)\n",
    "res1=get_products()\n",
    "print(\"res=\",res1)\n",
    "res2=get_orders()\n",
    "print(\"res=\",res2)\n",
    "#r1=res()\n",
    "#print(\"r1=\",r1)"
   ]
  },
  {
   "cell_type": "code",
   "execution_count": 8,
   "id": "f150181a",
   "metadata": {},
   "outputs": [
    {
     "name": "stdout",
     "output_type": "stream",
     "text": [
      "res= <generator object fun at 0x00000274EF25BA50>\n",
      "1\n",
      "k= 10\n",
      "2\n",
      "k= 20\n",
      "3\n",
      "k= 30\n",
      "DONE\n",
      "iterating through generator object second time\n",
      "Second done DONE\n"
     ]
    }
   ],
   "source": [
    "def fun():\n",
    "    print(1)\n",
    "    yield 10\n",
    "    print(2)\n",
    "    yield 20\n",
    "    print(3)\n",
    "    yield 30\n",
    "res=fun()\n",
    "print(\"res=\",res)\n",
    "for k in res:\n",
    "    print(\"k=\",k)\n",
    "print(\"DONE\")\n",
    "print(\"iterating through generator object second time\")\n",
    "for k in res:#next(res)\n",
    "    print(\"k=\",k)\n",
    "print(\"Second done DONE\")"
   ]
  },
  {
   "cell_type": "code",
   "execution_count": 9,
   "id": "c8467b5f",
   "metadata": {},
   "outputs": [
    {
     "name": "stdout",
     "output_type": "stream",
     "text": [
      "res= <generator object fun at 0x00000274EF25BDD0>\n",
      "1\n",
      "k= 10\n",
      "2\n",
      "k= 20\n",
      "3\n",
      "k= 30\n",
      "DONE\n",
      "iterating through generator object second time\n",
      "Second done DONE\n",
      "calling again\n",
      "iterating through generator object \n",
      "1\n",
      "k= 10\n",
      "2\n",
      "k= 20\n",
      "3\n",
      "k= 30\n",
      "DONE\n"
     ]
    }
   ],
   "source": [
    "def fun():\n",
    "    print(1)\n",
    "    yield 10\n",
    "    print(2)\n",
    "    yield 20\n",
    "    print(3)\n",
    "    yield 30\n",
    "res=fun()\n",
    "print(\"res=\",res)\n",
    "for k in res:\n",
    "    print(\"k=\",k)\n",
    "print(\"DONE\")\n",
    "print(\"iterating through generator object second time\")\n",
    "for k in res:#next(res)\n",
    "    print(\"k=\",k)\n",
    "print(\"Second done DONE\")\n",
    "print(\"calling again\")\n",
    "res=fun()\n",
    "print(\"iterating through generator object \")\n",
    "for k in res:#next(res)\n",
    "    print(\"k=\",k)\n",
    "print(\"DONE\")"
   ]
  },
  {
   "cell_type": "code",
   "execution_count": 11,
   "id": "3455b8e9",
   "metadata": {},
   "outputs": [
    {
     "name": "stdout",
     "output_type": "stream",
     "text": [
      "res= <generator object fun at 0x00000274EF25BE40>\n"
     ]
    }
   ],
   "source": [
    "def fun(x):\n",
    "    yield 30\n",
    "    return 10\n",
    "res=fun(10)\n",
    "print(\"res=\",res)# It will gives the generator object"
   ]
  },
  {
   "cell_type": "code",
   "execution_count": 7,
   "id": "06f50b85",
   "metadata": {},
   "outputs": [
    {
     "ename": "RecursionError",
     "evalue": "maximum recursion depth exceeded",
     "output_type": "error",
     "traceback": [
      "\u001b[1;31m---------------------------------------------------------------------------\u001b[0m",
      "\u001b[1;31mRecursionError\u001b[0m                            Traceback (most recent call last)",
      "\u001b[1;32mc:\\Users\\DELL\\Desktop\\GIT\\python task\\PythonTasks06-11-2023\\functions.ipynb Cell 11\u001b[0m line \u001b[0;36m7\n\u001b[0;32m      <a href='vscode-notebook-cell:/c%3A/Users/DELL/Desktop/GIT/python%20task/PythonTasks06-11-2023/functions.ipynb#X13sZmlsZQ%3D%3D?line=4'>5</a>\u001b[0m         \u001b[39mreturn\u001b[39;00m fact(x)\n\u001b[0;32m      <a href='vscode-notebook-cell:/c%3A/Users/DELL/Desktop/GIT/python%20task/PythonTasks06-11-2023/functions.ipynb#X13sZmlsZQ%3D%3D?line=5'>6</a>\u001b[0m x\u001b[39m=\u001b[39m\u001b[39m5\u001b[39m\n\u001b[1;32m----> <a href='vscode-notebook-cell:/c%3A/Users/DELL/Desktop/GIT/python%20task/PythonTasks06-11-2023/functions.ipynb#X13sZmlsZQ%3D%3D?line=6'>7</a>\u001b[0m \u001b[39mprint\u001b[39m(fact(x))\n",
      "\u001b[1;32mc:\\Users\\DELL\\Desktop\\GIT\\python task\\PythonTasks06-11-2023\\functions.ipynb Cell 11\u001b[0m line \u001b[0;36m5\n\u001b[0;32m      <a href='vscode-notebook-cell:/c%3A/Users/DELL/Desktop/GIT/python%20task/PythonTasks06-11-2023/functions.ipynb#X13sZmlsZQ%3D%3D?line=2'>3</a>\u001b[0m     \u001b[39mreturn\u001b[39;00m \u001b[39m1\u001b[39m\n\u001b[0;32m      <a href='vscode-notebook-cell:/c%3A/Users/DELL/Desktop/GIT/python%20task/PythonTasks06-11-2023/functions.ipynb#X13sZmlsZQ%3D%3D?line=3'>4</a>\u001b[0m \u001b[39melse\u001b[39;00m:\n\u001b[1;32m----> <a href='vscode-notebook-cell:/c%3A/Users/DELL/Desktop/GIT/python%20task/PythonTasks06-11-2023/functions.ipynb#X13sZmlsZQ%3D%3D?line=4'>5</a>\u001b[0m     \u001b[39mreturn\u001b[39;00m fact(x)\n",
      "\u001b[1;32mc:\\Users\\DELL\\Desktop\\GIT\\python task\\PythonTasks06-11-2023\\functions.ipynb Cell 11\u001b[0m line \u001b[0;36m5\n\u001b[0;32m      <a href='vscode-notebook-cell:/c%3A/Users/DELL/Desktop/GIT/python%20task/PythonTasks06-11-2023/functions.ipynb#X13sZmlsZQ%3D%3D?line=2'>3</a>\u001b[0m     \u001b[39mreturn\u001b[39;00m \u001b[39m1\u001b[39m\n\u001b[0;32m      <a href='vscode-notebook-cell:/c%3A/Users/DELL/Desktop/GIT/python%20task/PythonTasks06-11-2023/functions.ipynb#X13sZmlsZQ%3D%3D?line=3'>4</a>\u001b[0m \u001b[39melse\u001b[39;00m:\n\u001b[1;32m----> <a href='vscode-notebook-cell:/c%3A/Users/DELL/Desktop/GIT/python%20task/PythonTasks06-11-2023/functions.ipynb#X13sZmlsZQ%3D%3D?line=4'>5</a>\u001b[0m     \u001b[39mreturn\u001b[39;00m fact(x)\n",
      "    \u001b[1;31m[... skipping similar frames: fact at line 5 (2971 times)]\u001b[0m\n",
      "\u001b[1;32mc:\\Users\\DELL\\Desktop\\GIT\\python task\\PythonTasks06-11-2023\\functions.ipynb Cell 11\u001b[0m line \u001b[0;36m5\n\u001b[0;32m      <a href='vscode-notebook-cell:/c%3A/Users/DELL/Desktop/GIT/python%20task/PythonTasks06-11-2023/functions.ipynb#X13sZmlsZQ%3D%3D?line=2'>3</a>\u001b[0m     \u001b[39mreturn\u001b[39;00m \u001b[39m1\u001b[39m\n\u001b[0;32m      <a href='vscode-notebook-cell:/c%3A/Users/DELL/Desktop/GIT/python%20task/PythonTasks06-11-2023/functions.ipynb#X13sZmlsZQ%3D%3D?line=3'>4</a>\u001b[0m \u001b[39melse\u001b[39;00m:\n\u001b[1;32m----> <a href='vscode-notebook-cell:/c%3A/Users/DELL/Desktop/GIT/python%20task/PythonTasks06-11-2023/functions.ipynb#X13sZmlsZQ%3D%3D?line=4'>5</a>\u001b[0m     \u001b[39mreturn\u001b[39;00m fact(x)\n",
      "\u001b[1;31mRecursionError\u001b[0m: maximum recursion depth exceeded"
     ]
    }
   ],
   "source": [
    "def fact(x):\n",
    "    if x<1:\n",
    "        return 1\n",
    "    else:\n",
    "        return fact(x)\n",
    "x=5\n",
    "print(fact(x))"
   ]
  },
  {
   "cell_type": "code",
   "execution_count": null,
   "id": "ca51ac4d",
   "metadata": {},
   "outputs": [],
   "source": []
  }
 ],
 "metadata": {
  "kernelspec": {
   "display_name": "Python 3 (ipykernel)",
   "language": "python",
   "name": "python3"
  },
  "language_info": {
   "codemirror_mode": {
    "name": "ipython",
    "version": 3
   },
   "file_extension": ".py",
   "mimetype": "text/x-python",
   "name": "python",
   "nbconvert_exporter": "python",
   "pygments_lexer": "ipython3",
   "version": "3.11.3"
  }
 },
 "nbformat": 4,
 "nbformat_minor": 5
}
