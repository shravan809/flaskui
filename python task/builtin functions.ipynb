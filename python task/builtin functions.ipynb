{
 "cells": [
  {
   "cell_type": "markdown",
   "id": "24f23ee3",
   "metadata": {},
   "source": [
    "## string medoths"
   ]
  },
  {
   "cell_type": "code",
   "execution_count": 10,
   "id": "267f353c",
   "metadata": {},
   "outputs": [
    {
     "name": "stdout",
     "output_type": "stream",
     "text": [
      "['__add__', '__class__', '__contains__', '__delattr__', '__dir__', '__doc__', '__eq__', '__format__', '__ge__', '__getattribute__', '__getitem__', '__getnewargs__', '__gt__', '__hash__', '__init__', '__init_subclass__', '__iter__', '__le__', '__len__', '__lt__', '__mod__', '__mul__', '__ne__', '__new__', '__reduce__', '__reduce_ex__', '__repr__', '__rmod__', '__rmul__', '__setattr__', '__sizeof__', '__str__', '__subclasshook__', 'capitalize', 'casefold', 'center', 'count', 'encode', 'endswith', 'expandtabs', 'find', 'format', 'format_map', 'index', 'isalnum', 'isalpha', 'isascii', 'isdecimal', 'isdigit', 'isidentifier', 'islower', 'isnumeric', 'isprintable', 'isspace', 'istitle', 'isupper', 'join', 'ljust', 'lower', 'lstrip', 'maketrans', 'partition', 'removeprefix', 'removesuffix', 'replace', 'rfind', 'rindex', 'rjust', 'rpartition', 'rsplit', 'rstrip', 'split', 'splitlines', 'startswith', 'strip', 'swapcase', 'title', 'translate', 'upper', 'zfill']\n"
     ]
    }
   ],
   "source": [
    "st='shravan'\n",
    "print(dir(st))"
   ]
  },
  {
   "cell_type": "code",
   "execution_count": 12,
   "id": "eb2ce97a",
   "metadata": {},
   "outputs": [
    {
     "name": "stdout",
     "output_type": "stream",
     "text": [
      "Python\n"
     ]
    }
   ],
   "source": [
    "st='python'\n",
    "print(st.title())"
   ]
  },
  {
   "cell_type": "code",
   "execution_count": 27,
   "id": "8367745c",
   "metadata": {},
   "outputs": [
    {
     "name": "stdout",
     "output_type": "stream",
     "text": [
      "python  is a programming language\n"
     ]
    }
   ],
   "source": [
    "st=' python  is a programming language         '\n",
    "print(st.strip())\n"
   ]
  },
  {
   "cell_type": "code",
   "execution_count": 28,
   "id": "81b6aae9",
   "metadata": {},
   "outputs": [
    {
     "name": "stdout",
     "output_type": "stream",
     "text": [
      "python  is a programming language         \n"
     ]
    }
   ],
   "source": [
    "st=' python  is a programming language         '\n",
    "print(st.lstrip())\n"
   ]
  },
  {
   "cell_type": "code",
   "execution_count": 29,
   "id": "33f9f22b",
   "metadata": {},
   "outputs": [
    {
     "name": "stdout",
     "output_type": "stream",
     "text": [
      "   python  is a programming language\n"
     ]
    }
   ],
   "source": [
    "st='   python  is a programming language         '\n",
    "print(st.rstrip())\n"
   ]
  },
  {
   "cell_type": "code",
   "execution_count": 34,
   "id": "b1b06722",
   "metadata": {},
   "outputs": [
    {
     "name": "stdout",
     "output_type": "stream",
     "text": [
      "python is a programming language\n"
     ]
    }
   ],
   "source": [
    "st='pYthon Is A programming language'\n",
    "print(st.lower())\n"
   ]
  },
  {
   "cell_type": "code",
   "execution_count": 35,
   "id": "f57ad250",
   "metadata": {},
   "outputs": [
    {
     "name": "stdout",
     "output_type": "stream",
     "text": [
      "PYTHON IS A PROGRAMMING LANGUAGE\n"
     ]
    }
   ],
   "source": [
    "st='pYthon Is A programming language'\n",
    "print(st.upper())\n"
   ]
  },
  {
   "cell_type": "code",
   "execution_count": 36,
   "id": "17df5185",
   "metadata": {},
   "outputs": [
    {
     "name": "stdout",
     "output_type": "stream",
     "text": [
      "Python is a programming language\n"
     ]
    }
   ],
   "source": [
    "st='pYthon Is A programming language'\n",
    "print(st.capitalize())\n"
   ]
  },
  {
   "cell_type": "code",
   "execution_count": 37,
   "id": "9fc16b8f",
   "metadata": {},
   "outputs": [
    {
     "name": "stdout",
     "output_type": "stream",
     "text": [
      "python is a programming language\n"
     ]
    }
   ],
   "source": [
    "st='pYthon Is A programming language'\n",
    "print(st.casefold())\n"
   ]
  },
  {
   "cell_type": "code",
   "execution_count": 39,
   "id": "d642b028",
   "metadata": {},
   "outputs": [
    {
     "name": "stdout",
     "output_type": "stream",
     "text": [
      "[10, 20, 30, 40, 30, 20, 30]\n",
      "[10, 20, 40, 30, 20, 30]\n",
      "[10, 20, 40, 20, 30]\n",
      "[10, 20, 40, 20]\n",
      "[10, 20, 40, 20]\n"
     ]
    }
   ],
   "source": [
    "l=[10,20,30,30,40,30,20,30]\n",
    "k=l[::-1]\n",
    "for i in k:\n",
    "    if i==30:\n",
    "        l.remove(i)\n",
    "        print(l)\n",
    "print(l)"
   ]
  },
  {
   "cell_type": "code",
   "execution_count": null,
   "id": "cd1645cd",
   "metadata": {},
   "outputs": [],
   "source": []
  }
 ],
 "metadata": {
  "kernelspec": {
   "display_name": "Python 3 (ipykernel)",
   "language": "python",
   "name": "python3"
  },
  "language_info": {
   "codemirror_mode": {
    "name": "ipython",
    "version": 3
   },
   "file_extension": ".py",
   "mimetype": "text/x-python",
   "name": "python",
   "nbconvert_exporter": "python",
   "pygments_lexer": "ipython3",
   "version": "3.9.7"
  }
 },
 "nbformat": 4,
 "nbformat_minor": 5
}
