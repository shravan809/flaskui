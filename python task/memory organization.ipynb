{
 "cells": [
  {
   "cell_type": "code",
   "execution_count": 1,
   "id": "501c978e",
   "metadata": {},
   "outputs": [
    {
     "name": "stdout",
     "output_type": "stream",
     "text": [
      "20\n"
     ]
    }
   ],
   "source": [
    "def mul(x,y):\n",
    "    return x*y\n",
    "print(mul(10,2))"
   ]
  },
  {
   "cell_type": "code",
   "execution_count": 9,
   "id": "30e78d3c",
   "metadata": {},
   "outputs": [
    {
     "name": "stdout",
     "output_type": "stream",
     "text": [
      "3000\n"
     ]
    }
   ],
   "source": [
    "\n",
    "a=[[1000,2000],3000,4000]\n",
    "b=a[:]\n",
    "d=copy(a)\n",
    "\n",
    "a[1]=5000\n",
    "print(b[1])"
   ]
  },
  {
   "cell_type": "code",
   "execution_count": 18,
   "id": "5d2103d6",
   "metadata": {},
   "outputs": [
    {
     "name": "stdout",
     "output_type": "stream",
     "text": [
      "<function fun at 0x0000023430934E50>\n",
      "30\n",
      "3\n",
      "\n",
      "<class 'function'> 2423098847856\n"
     ]
    }
   ],
   "source": [
    "def fun(x,y):\n",
    "    return x+y\n",
    "res=fun\n",
    "print(res)\n",
    "r1=fun(10,20)\n",
    "r2=res(1,2)\n",
    "print(r1)\n",
    "print(r2)\n",
    "print()\n",
    "print(type(fun),id(id))"
   ]
  },
  {
   "cell_type": "code",
   "execution_count": 19,
   "id": "a96d474b",
   "metadata": {},
   "outputs": [],
   "source": [
    "l=[[1000,2000],3000,4000]\n",
    "def fun(x,y):\n",
    "    x.append(6000)\n"
   ]
  },
  {
   "cell_type": "code",
   "execution_count": 23,
   "id": "44dd7bba",
   "metadata": {},
   "outputs": [
    {
     "name": "stdout",
     "output_type": "stream",
     "text": [
      "2423175766992\n",
      "2423175766864\n",
      "2423175766864\n",
      "2423175766992\n",
      "2423175766864\n"
     ]
    }
   ],
   "source": [
    "from copy import deepcopy,copy\n",
    "a=[[3000,4000],1000,2000]\n",
    "b=a[:]\n",
    "d=copy(a)\n",
    "e=a\n",
    "c=deepcopy(a)\n",
    "a[1]=5000\n",
    "print(id(a[1]))\n",
    "print(id(b[1]))\n",
    "print(id(d[1]))\n",
    "print(id(e[1]))\n",
    "print(id(c[1]))"
   ]
  },
  {
   "cell_type": "code",
   "execution_count": 29,
   "id": "7ec6321d",
   "metadata": {},
   "outputs": [
    {
     "name": "stdout",
     "output_type": "stream",
     "text": [
      "[[7000, 4000, [2000, [6000, 7000, 8000], 5000]], 6000, 2000]\n",
      "[[7000, 4000, [2000, [6000, 7000, 8000], 5000]], 1000, 2000]\n",
      "[[7000, 4000, [2000, [6000, 7000, 8000], 5000]], 1000, 2000]\n",
      "[[7000, 4000, [2000, [6000, 7000, 8000], 5000]], 6000, 2000]\n",
      "[[[3000, 5000, 7000], 4000, [2000, [6000, 7000]]], 1000, 2000]\n",
      "\n",
      "2423176612992\n",
      "2423176612928\n",
      "2423176613184\n",
      "2423176612992\n",
      "2423176612608\n",
      "\n",
      "2423175768208\n",
      "2423175766992\n",
      "2423175766992\n",
      "2423175768208\n",
      "2423175766992\n"
     ]
    }
   ],
   "source": [
    "from copy import copy, deepcopy\n",
    "\n",
    "x=[2000,[6000,7000]]\n",
    "a=[[[3000,5000,7000],4000,x],1000,2000]\n",
    "b=a[:]\n",
    "d=copy(a)\n",
    "e=a\n",
    "c  hn                  =deepcopy(a)\n",
    "a[1]=6000\n",
    "a[0][0]=7000\n",
    "x.append(5000)\n",
    "x[1].append(8000)\n",
    "\n",
    "print(a)\n",
    "print(b)\n",
    "print(d)\n",
    "print(e)\n",
    "print(c)\n",
    "print()\n",
    "print(id(a))\n",
    "print(id(b))\n",
    "print(id(d))\n",
    "print(id(e))\n",
    "print(id(c))\n",
    "print()\n",
    "print(id(a[1]))\n",
    "print(id(b[1]))\n",
    "print(id(d[1]))\n",
    "print(id(e[1]))\n",
    "print(id(c[1]))"
   ]
  },
  {
   "cell_type": "code",
   "execution_count": 36,
   "id": "418d05c5",
   "metadata": {},
   "outputs": [
    {
     "name": "stdout",
     "output_type": "stream",
     "text": [
      "10\n",
      "30\n",
      "10\n",
      "30\n"
     ]
    }
   ],
   "source": [
    "class Add:\n",
    "    def __init__(self,a,b):\n",
    "        self.a=a\n",
    "        self.b=b\n",
    "        \n",
    "    def show(self):\n",
    "        print(self.a)\n",
    "        print(self.b)\n",
    "        \n",
    "obj=Add(10,30)\n",
    "obj.show()\n",
    "Add.show(obj)"
   ]
  },
  {
   "cell_type": "code",
   "execution_count": 38,
   "id": "a6f85ced",
   "metadata": {},
   "outputs": [
    {
     "name": "stdout",
     "output_type": "stream",
     "text": [
      "shravan 31\n"
     ]
    }
   ],
   "source": [
    "class Student():\n",
    "    def __init__(self,name,age):\n",
    "        self.name=name\n",
    "        self.age=age\n",
    "    def show(self):\n",
    "        print(self.name,self.age)\n",
    "obj=Student('shravan',31)\n",
    "obj.show()"
   ]
  },
  {
   "cell_type": "code",
   "execution_count": 46,
   "id": "e5d8a975",
   "metadata": {},
   "outputs": [
    {
     "name": "stdout",
     "output_type": "stream",
     "text": [
      "('Jayaram', 1234)\n",
      "<class 'type'>\n",
      "<class '__main__.Emp'>\n",
      "<class '__main__.Emp'>\n",
      "<__main__.Emp object at 0x00000234309640A0>\n"
     ]
    }
   ],
   "source": [
    "class Emp:\n",
    "    def __init__(x,name,empid):\n",
    "        x.name=name\n",
    "        x.empid=empid\n",
    "    def get(self):\n",
    "        return self.name, self.empid\n",
    "jay = Emp(\"Jayaram\", 1234)\n",
    "print(jay.get())\n",
    "print(type(Emp))\n",
    "print(type(jay))\n",
    "print(Emp)\n",
    "print(jay)"
   ]
  },
  {
   "cell_type": "code",
   "execution_count": 4,
   "id": "9d1a6b4a",
   "metadata": {},
   "outputs": [
    {
     "name": "stdout",
     "output_type": "stream",
     "text": [
      "10\n"
     ]
    },
    {
     "ename": "TypeError",
     "evalue": "fun() got some positional-only arguments passed as keyword arguments: 'x'",
     "output_type": "error",
     "traceback": [
      "\u001b[1;31m---------------------------------------------------------------------------\u001b[0m",
      "\u001b[1;31mTypeError\u001b[0m                                 Traceback (most recent call last)",
      "\u001b[1;32m~\\AppData\\Local\\Temp/ipykernel_2296/4081642481.py\u001b[0m in \u001b[0;36m<module>\u001b[1;34m\u001b[0m\n\u001b[0;32m      2\u001b[0m     \u001b[0mprint\u001b[0m\u001b[1;33m(\u001b[0m\u001b[0mx\u001b[0m\u001b[1;33m)\u001b[0m\u001b[1;33m\u001b[0m\u001b[1;33m\u001b[0m\u001b[0m\n\u001b[0;32m      3\u001b[0m \u001b[0mfun\u001b[0m\u001b[1;33m(\u001b[0m\u001b[1;36m10\u001b[0m\u001b[1;33m)\u001b[0m\u001b[1;33m\u001b[0m\u001b[1;33m\u001b[0m\u001b[0m\n\u001b[1;32m----> 4\u001b[1;33m \u001b[0mfun\u001b[0m\u001b[1;33m(\u001b[0m\u001b[0mx\u001b[0m\u001b[1;33m=\u001b[0m\u001b[1;36m10\u001b[0m\u001b[1;33m)\u001b[0m\u001b[1;33m\u001b[0m\u001b[1;33m\u001b[0m\u001b[0m\n\u001b[0m",
      "\u001b[1;31mTypeError\u001b[0m: fun() got some positional-only arguments passed as keyword arguments: 'x'"
     ]
    }
   ],
   "source": [
    "def fun(x,/):\n",
    "    print(x)\n",
    "fun(10)\n",
    "fun(x=10)"
   ]
  },
  {
   "cell_type": "code",
   "execution_count": 8,
   "id": "416fb9c0",
   "metadata": {},
   "outputs": [
    {
     "name": "stdout",
     "output_type": "stream",
     "text": [
      "10\n"
     ]
    },
    {
     "ename": "TypeError",
     "evalue": "fun() takes 0 positional arguments but 1 was given",
     "output_type": "error",
     "traceback": [
      "\u001b[1;31m---------------------------------------------------------------------------\u001b[0m",
      "\u001b[1;31mTypeError\u001b[0m                                 Traceback (most recent call last)",
      "\u001b[1;32m~\\AppData\\Local\\Temp/ipykernel_2296/1118331007.py\u001b[0m in \u001b[0;36m<module>\u001b[1;34m\u001b[0m\n\u001b[0;32m      2\u001b[0m     \u001b[0mprint\u001b[0m\u001b[1;33m(\u001b[0m\u001b[0mx\u001b[0m\u001b[1;33m)\u001b[0m\u001b[1;33m\u001b[0m\u001b[1;33m\u001b[0m\u001b[0m\n\u001b[0;32m      3\u001b[0m \u001b[0mfun\u001b[0m\u001b[1;33m(\u001b[0m\u001b[0mx\u001b[0m\u001b[1;33m=\u001b[0m\u001b[1;36m10\u001b[0m\u001b[1;33m)\u001b[0m\u001b[1;33m\u001b[0m\u001b[1;33m\u001b[0m\u001b[0m\n\u001b[1;32m----> 4\u001b[1;33m \u001b[0mfun\u001b[0m\u001b[1;33m(\u001b[0m\u001b[1;36m10\u001b[0m\u001b[1;33m)\u001b[0m\u001b[1;33m\u001b[0m\u001b[1;33m\u001b[0m\u001b[0m\n\u001b[0m",
      "\u001b[1;31mTypeError\u001b[0m: fun() takes 0 positional arguments but 1 was given"
     ]
    }
   ],
   "source": [
    "def fun(*,x):\n",
    "    print(x)\n",
    "fun(x=10)\n",
    "fun(10)\n"
   ]
  },
  {
   "cell_type": "code",
   "execution_count": 9,
   "id": "d0b4fd39",
   "metadata": {},
   "outputs": [
    {
     "data": {
      "text/plain": [
       "<generator object get at 0x00000253935F5900>"
      ]
     },
     "execution_count": 9,
     "metadata": {},
     "output_type": "execute_result"
    }
   ],
   "source": [
    "def get(x):\n",
    "    print('started')\n",
    "    return x\n",
    "    yield x\n",
    "    \n",
    "get(10)\n"
   ]
  },
  {
   "cell_type": "code",
   "execution_count": 10,
   "id": "9a499996",
   "metadata": {},
   "outputs": [
    {
     "name": "stdout",
     "output_type": "stream",
     "text": [
      "['user', 'user2', 'user3', 'user4']\n",
      "['p1', 'p2', 'P3', 'P4']\n",
      "['o1', 'o2', 'o3', 'o4']\n"
     ]
    }
   ],
   "source": [
    "def get_users():\n",
    "    return ['user','user3','user2','user4']\n",
    "def get_products():\n",
    "    return['p1','p3','P2','P4']\n",
    "def get_orders():\n",
    "    return['o1','o3','o2','o4']\n",
    "\n",
    "print(get_users())\n",
    "print(get_products())\n",
    "print(get_orders())\n",
    "    "
   ]
  },
  {
   "cell_type": "code",
   "execution_count": 29,
   "id": "5224ec4c",
   "metadata": {},
   "outputs": [
    {
     "name": "stdout",
     "output_type": "stream",
     "text": [
      "['user1', 'user3', 'user2', 'user4']\n",
      "res= ['user1', 'user2', 'user3', 'user4']\n",
      "['p1', 'p3', 'p2', 'p4']\n",
      "res= ['p1', 'p2', 'p3', 'p4']\n",
      "['o1', 'o3', 'o2', 'o4']\n",
      "res= ['o1', 'o2', 'o3', 'o4']\n"
     ]
    }
   ],
   "source": [
    "def order_data(f):#f=get_user\n",
    "    def wrapper():\n",
    "        res=f()\n",
    "        print(res)\n",
    "        res.sort()\n",
    "        return res\n",
    "    return wrapper\n",
    "@order_data\n",
    "def get_users():\n",
    "    return [\"user1\",\"user3\",\"user2\",\"user4\"]\n",
    "@order_data\n",
    "def get_products():\n",
    "    return [\"p1\",\"p3\",\"p2\",\"p4\"]\n",
    "@order_data\n",
    "def get_orders():\n",
    "    return [\"o1\",\"o3\",\"o2\",\"o4\"]\n",
    "res=get_users()\n",
    "print(\"res=\",res)\n",
    "res1=get_products()\n",
    "print(\"res=\",res1)\n",
    "res2=get_orders()\n",
    "print(\"res=\",res2)\n",
    "#r1=res()\n",
    "#print(\"r1=\",r1)"
   ]
  },
  {
   "cell_type": "code",
   "execution_count": 1,
   "id": "a34e0f7b",
   "metadata": {},
   "outputs": [
    {
     "ename": "TypeError",
     "evalue": "unsupported operand type(s) for +: 'int' and 'str'",
     "output_type": "error",
     "traceback": [
      "\u001b[1;31m---------------------------------------------------------------------------\u001b[0m",
      "\u001b[1;31mTypeError\u001b[0m                                 Traceback (most recent call last)",
      "\u001b[1;32m~\\AppData\\Local\\Temp/ipykernel_12272/2260466773.py\u001b[0m in \u001b[0;36m<module>\u001b[1;34m\u001b[0m\n\u001b[0;32m      2\u001b[0m \u001b[0mb\u001b[0m\u001b[1;33m=\u001b[0m\u001b[1;34m'shravan'\u001b[0m\u001b[1;33m\u001b[0m\u001b[1;33m\u001b[0m\u001b[0m\n\u001b[0;32m      3\u001b[0m \u001b[1;33m\u001b[0m\u001b[0m\n\u001b[1;32m----> 4\u001b[1;33m \u001b[0mprint\u001b[0m\u001b[1;33m(\u001b[0m\u001b[0ma\u001b[0m\u001b[1;33m+\u001b[0m\u001b[0mb\u001b[0m\u001b[1;33m)\u001b[0m\u001b[1;33m\u001b[0m\u001b[1;33m\u001b[0m\u001b[0m\n\u001b[0m\u001b[0;32m      5\u001b[0m \u001b[1;31m#print(a-b)\u001b[0m\u001b[1;33m\u001b[0m\u001b[1;33m\u001b[0m\u001b[0m\n\u001b[0;32m      6\u001b[0m \u001b[0mprint\u001b[0m\u001b[1;33m(\u001b[0m\u001b[0ma\u001b[0m\u001b[1;33m*\u001b[0m\u001b[0mb\u001b[0m\u001b[1;33m)\u001b[0m\u001b[1;33m\u001b[0m\u001b[1;33m\u001b[0m\u001b[0m\n",
      "\u001b[1;31mTypeError\u001b[0m: unsupported operand type(s) for +: 'int' and 'str'"
     ]
    }
   ],
   "source": [
    "a=1234\n",
    "b='shravan'\n",
    "\n",
    "print(a+b)\n",
    "#print(a-b)\n",
    "print(a*b)\n",
    "#print(a/b)\n",
    "print(a>b)"
   ]
  },
  {
   "cell_type": "code",
   "execution_count": 31,
   "id": "18355e43",
   "metadata": {},
   "outputs": [
    {
     "ename": "TypeError",
     "evalue": "can only concatenate list (not \"str\") to list",
     "output_type": "error",
     "traceback": [
      "\u001b[1;31m---------------------------------------------------------------------------\u001b[0m",
      "\u001b[1;31mTypeError\u001b[0m                                 Traceback (most recent call last)",
      "\u001b[1;32m~\\AppData\\Local\\Temp/ipykernel_2296/3842610093.py\u001b[0m in \u001b[0;36m<module>\u001b[1;34m\u001b[0m\n\u001b[0;32m      1\u001b[0m \u001b[0ma\u001b[0m\u001b[1;33m=\u001b[0m\u001b[1;33m[\u001b[0m\u001b[1;36m1\u001b[0m\u001b[1;33m,\u001b[0m\u001b[1;36m2\u001b[0m\u001b[1;33m,\u001b[0m\u001b[1;36m3\u001b[0m\u001b[1;33m,\u001b[0m\u001b[1;36m4\u001b[0m\u001b[1;33m,\u001b[0m\u001b[1;36m5\u001b[0m\u001b[1;33m]\u001b[0m\u001b[1;33m\u001b[0m\u001b[1;33m\u001b[0m\u001b[0m\n\u001b[0;32m      2\u001b[0m \u001b[0mb\u001b[0m\u001b[1;33m=\u001b[0m\u001b[1;34m'shravan'\u001b[0m\u001b[1;33m\u001b[0m\u001b[1;33m\u001b[0m\u001b[0m\n\u001b[1;32m----> 3\u001b[1;33m \u001b[0mprint\u001b[0m\u001b[1;33m(\u001b[0m\u001b[0ma\u001b[0m\u001b[1;33m+\u001b[0m\u001b[0mb\u001b[0m\u001b[1;33m)\u001b[0m\u001b[1;33m\u001b[0m\u001b[1;33m\u001b[0m\u001b[0m\n\u001b[0m",
      "\u001b[1;31mTypeError\u001b[0m: can only concatenate list (not \"str\") to list"
     ]
    }
   ],
   "source": [
    "a=[1,2,3,4,5]\n",
    "b='shravan'\n",
    "print(a+b)"
   ]
  },
  {
   "cell_type": "code",
   "execution_count": 7,
   "id": "6c873aed",
   "metadata": {},
   "outputs": [
    {
     "ename": "TypeError",
     "evalue": "'>' not supported between instances of 'list' and 'str'",
     "output_type": "error",
     "traceback": [
      "\u001b[1;31m---------------------------------------------------------------------------\u001b[0m",
      "\u001b[1;31mTypeError\u001b[0m                                 Traceback (most recent call last)",
      "\u001b[1;32m~\\AppData\\Local\\Temp/ipykernel_12272/1781054242.py\u001b[0m in \u001b[0;36m<module>\u001b[1;34m\u001b[0m\n\u001b[0;32m      5\u001b[0m \u001b[1;31m#print(a-b)\u001b[0m\u001b[1;33m\u001b[0m\u001b[1;33m\u001b[0m\u001b[0m\n\u001b[0;32m      6\u001b[0m \u001b[1;31m#print(a/b)\u001b[0m\u001b[1;33m\u001b[0m\u001b[1;33m\u001b[0m\u001b[0m\n\u001b[1;32m----> 7\u001b[1;33m \u001b[0mprint\u001b[0m\u001b[1;33m(\u001b[0m\u001b[0ma\u001b[0m\u001b[1;33m>\u001b[0m\u001b[0mb\u001b[0m\u001b[1;33m)\u001b[0m\u001b[1;33m\u001b[0m\u001b[1;33m\u001b[0m\u001b[0m\n\u001b[0m",
      "\u001b[1;31mTypeError\u001b[0m: '>' not supported between instances of 'list' and 'str'"
     ]
    }
   ],
   "source": [
    "a=[1,2,3,4,5,6]\n",
    "b='shravan'\n",
    "#print(a+b)\n",
    "#print(a*b)\n",
    "#print(a-b)\n",
    "#print(a/b)\n",
    "print(a>b)"
   ]
  },
  {
   "cell_type": "code",
   "execution_count": 9,
   "id": "0888bb99",
   "metadata": {},
   "outputs": [
    {
     "ename": "TypeError",
     "evalue": "unsupported operand type(s) for -: 'set' and 'list'",
     "output_type": "error",
     "traceback": [
      "\u001b[1;31m---------------------------------------------------------------------------\u001b[0m",
      "\u001b[1;31mTypeError\u001b[0m                                 Traceback (most recent call last)",
      "\u001b[1;32m~\\AppData\\Local\\Temp/ipykernel_12272/368019147.py\u001b[0m in \u001b[0;36m<module>\u001b[1;34m\u001b[0m\n\u001b[0;32m      3\u001b[0m \u001b[1;33m\u001b[0m\u001b[0m\n\u001b[0;32m      4\u001b[0m \u001b[1;31m#print(a+b)\u001b[0m\u001b[1;33m\u001b[0m\u001b[1;33m\u001b[0m\u001b[0m\n\u001b[1;32m----> 5\u001b[1;33m \u001b[0mprint\u001b[0m\u001b[1;33m(\u001b[0m\u001b[0ma\u001b[0m\u001b[1;33m-\u001b[0m\u001b[0mb\u001b[0m\u001b[1;33m)\u001b[0m\u001b[1;33m\u001b[0m\u001b[1;33m\u001b[0m\u001b[0m\n\u001b[0m\u001b[0;32m      6\u001b[0m \u001b[1;31m#print(a*b)\u001b[0m\u001b[1;33m\u001b[0m\u001b[1;33m\u001b[0m\u001b[0m\n\u001b[0;32m      7\u001b[0m \u001b[1;31m#print(a/b)\u001b[0m\u001b[1;33m\u001b[0m\u001b[1;33m\u001b[0m\u001b[0m\n",
      "\u001b[1;31mTypeError\u001b[0m: unsupported operand type(s) for -: 'set' and 'list'"
     ]
    }
   ],
   "source": [
    "a={1,2,4,5,6}\n",
    "b=[1,23,4,5,6]\n",
    "\n",
    "#print(a+b)\n",
    "print(a-b)\n",
    "#print(a*b)\n",
    "#print(a/b)\n",
    "print(a>b)"
   ]
  },
  {
   "cell_type": "code",
   "execution_count": 37,
   "id": "aa2abcbe",
   "metadata": {},
   "outputs": [
    {
     "name": "stdout",
     "output_type": "stream",
     "text": [
      "123579.456\n",
      "123332.544\n",
      "15241383.936\n",
      "1000.0\n",
      "True\n",
      "False\n",
      "False\n"
     ]
    }
   ],
   "source": [
    "a=123456\n",
    "b=123.456\n",
    "\n",
    "print(a+b)\n",
    "print(a-b)\n",
    "print(a*b)\n",
    "print(a/b)\n",
    "print(a>b)\n",
    "print(a<b)\n",
    "print(a==b)"
   ]
  },
  {
   "cell_type": "code",
   "execution_count": 46,
   "id": "18977f09",
   "metadata": {
    "scrolled": true
   },
   "outputs": [
    {
     "ename": "TypeError",
     "evalue": "unsupported operand type(s) for +: 'int' and 'NoneType'",
     "output_type": "error",
     "traceback": [
      "\u001b[1;31m---------------------------------------------------------------------------\u001b[0m",
      "\u001b[1;31mTypeError\u001b[0m                                 Traceback (most recent call last)",
      "\u001b[1;32m~\\AppData\\Local\\Temp/ipykernel_2296/3954704778.py\u001b[0m in \u001b[0;36m<module>\u001b[1;34m\u001b[0m\n\u001b[0;32m      2\u001b[0m \u001b[0mb\u001b[0m\u001b[1;33m=\u001b[0m\u001b[1;32mNone\u001b[0m\u001b[1;33m\u001b[0m\u001b[1;33m\u001b[0m\u001b[0m\n\u001b[0;32m      3\u001b[0m \u001b[1;33m\u001b[0m\u001b[0m\n\u001b[1;32m----> 4\u001b[1;33m \u001b[0mprint\u001b[0m\u001b[1;33m(\u001b[0m\u001b[0ma\u001b[0m\u001b[1;33m+\u001b[0m\u001b[0mb\u001b[0m\u001b[1;33m)\u001b[0m\u001b[1;33m\u001b[0m\u001b[1;33m\u001b[0m\u001b[0m\n\u001b[0m\u001b[0;32m      5\u001b[0m \u001b[0mprint\u001b[0m\u001b[1;33m(\u001b[0m\u001b[0ma\u001b[0m\u001b[1;33m-\u001b[0m\u001b[0mb\u001b[0m\u001b[1;33m)\u001b[0m\u001b[1;33m\u001b[0m\u001b[1;33m\u001b[0m\u001b[0m\n\u001b[0;32m      6\u001b[0m \u001b[0mprint\u001b[0m\u001b[1;33m(\u001b[0m\u001b[0ma\u001b[0m\u001b[1;33m*\u001b[0m\u001b[0mb\u001b[0m\u001b[1;33m)\u001b[0m\u001b[1;33m\u001b[0m\u001b[1;33m\u001b[0m\u001b[0m\n",
      "\u001b[1;31mTypeError\u001b[0m: unsupported operand type(s) for +: 'int' and 'NoneType'"
     ]
    }
   ],
   "source": [
    "a=12345\n",
    "b=None\n",
    "\n",
    "print(a+b)\n",
    "print(a-b)\n",
    "print(a*b)\n",
    "print(a/b)\n",
    "print(a>b)"
   ]
  },
  {
   "cell_type": "code",
   "execution_count": 45,
   "id": "ab0e91cd",
   "metadata": {},
   "outputs": [
    {
     "name": "stdout",
     "output_type": "stream",
     "text": [
      "12457.3\n",
      "12455.3\n",
      "12456.3\n",
      "12456.3\n",
      "True\n"
     ]
    }
   ],
   "source": [
    "a=12456.3\n",
    "b=True\n",
    "print(a+b)\n",
    "print(a-b)\n",
    "print(a*b)\n",
    "print(a/b)\n",
    "print(a>b)"
   ]
  },
  {
   "cell_type": "code",
   "execution_count": 16,
   "id": "034f56ad",
   "metadata": {},
   "outputs": [
    {
     "name": "stdout",
     "output_type": "stream",
     "text": [
      "True\n",
      "False\n"
     ]
    }
   ],
   "source": [
    "a='12345'\n",
    "b='123'\n",
    "\n",
    "#print(a+b)\n",
    "#print(a-b)\n",
    "#print(a*b)\n",
    "#print(a/b)\n",
    "print(a>b)\n",
    "print(a<b)"
   ]
  },
  {
   "cell_type": "code",
   "execution_count": 24,
   "id": "b0afea77",
   "metadata": {},
   "outputs": [
    {
     "ename": "TypeError",
     "evalue": "unsupported operand type(s) for //: 'list' and 'list'",
     "output_type": "error",
     "traceback": [
      "\u001b[1;31m---------------------------------------------------------------------------\u001b[0m",
      "\u001b[1;31mTypeError\u001b[0m                                 Traceback (most recent call last)",
      "\u001b[1;32m~\\AppData\\Local\\Temp/ipykernel_12272/63163724.py\u001b[0m in \u001b[0;36m<module>\u001b[1;34m\u001b[0m\n\u001b[0;32m      6\u001b[0m \u001b[1;31m#print(a/b)\u001b[0m\u001b[1;33m\u001b[0m\u001b[1;33m\u001b[0m\u001b[0m\n\u001b[0;32m      7\u001b[0m \u001b[1;31m#print(a**b)\u001b[0m\u001b[1;33m\u001b[0m\u001b[1;33m\u001b[0m\u001b[0m\n\u001b[1;32m----> 8\u001b[1;33m \u001b[0mprint\u001b[0m\u001b[1;33m(\u001b[0m\u001b[0ma\u001b[0m\u001b[1;33m//\u001b[0m\u001b[0mb\u001b[0m\u001b[1;33m)\u001b[0m\u001b[1;33m\u001b[0m\u001b[1;33m\u001b[0m\u001b[0m\n\u001b[0m\u001b[0;32m      9\u001b[0m \u001b[0mprint\u001b[0m\u001b[1;33m(\u001b[0m\u001b[0ma\u001b[0m\u001b[1;33m>\u001b[0m\u001b[0mb\u001b[0m\u001b[1;33m)\u001b[0m\u001b[1;33m\u001b[0m\u001b[1;33m\u001b[0m\u001b[0m\n\u001b[0;32m     10\u001b[0m \u001b[0mprint\u001b[0m\u001b[1;33m(\u001b[0m\u001b[0ma\u001b[0m\u001b[1;33m<\u001b[0m\u001b[0mb\u001b[0m\u001b[1;33m)\u001b[0m\u001b[1;33m\u001b[0m\u001b[1;33m\u001b[0m\u001b[0m\n",
      "\u001b[1;31mTypeError\u001b[0m: unsupported operand type(s) for //: 'list' and 'list'"
     ]
    }
   ],
   "source": [
    "a=[1,2,3,4,5,6]\n",
    "b=[1,2,3,4,5,9]\n",
    "#print(a+b)\n",
    "#print(a*b)\n",
    "#print(a-b)\n",
    "#print(a/b)\n",
    "#print(a**b)\n",
    "print(a//b)\n",
    "print(a>b)\n",
    "print(a<b)"
   ]
  },
  {
   "cell_type": "code",
   "execution_count": 26,
   "id": "1cf24e7e",
   "metadata": {},
   "outputs": [
    {
     "name": "stdout",
     "output_type": "stream",
     "text": [
      "True\n",
      "False\n"
     ]
    }
   ],
   "source": [
    "a=[1,2,3,4,5,6]\n",
    "b=[1,2,3,4,5]\n",
    "#print(a+b)\n",
    "#print(a*b)\n",
    "#print(a-b)\n",
    "#print(a/b)\n",
    "print(a>b)\n",
    "print(a<b)"
   ]
  },
  {
   "cell_type": "code",
   "execution_count": 29,
   "id": "a6a4139d",
   "metadata": {},
   "outputs": [
    {
     "name": "stdout",
     "output_type": "stream",
     "text": [
      "False\n",
      "False\n"
     ]
    }
   ],
   "source": [
    "a={1,2,34.5,56}\n",
    "b={4,4,6,8,9,5,8}\n",
    "#print(a+b)\n",
    "#print(a*b)\n",
    "#print(a-b)\n",
    "#print(a/b)\n",
    "print(a>b)\n",
    "print(a<b)"
   ]
  },
  {
   "cell_type": "code",
   "execution_count": 31,
   "id": "83b0b0a9",
   "metadata": {},
   "outputs": [
    {
     "ename": "TypeError",
     "evalue": "unsupported operand type(s) for /: 'dict' and 'dict'",
     "output_type": "error",
     "traceback": [
      "\u001b[1;31m---------------------------------------------------------------------------\u001b[0m",
      "\u001b[1;31mTypeError\u001b[0m                                 Traceback (most recent call last)",
      "\u001b[1;32m~\\AppData\\Local\\Temp/ipykernel_12272/3379807556.py\u001b[0m in \u001b[0;36m<module>\u001b[1;34m\u001b[0m\n\u001b[0;32m      5\u001b[0m \u001b[1;31m#print(a*b)\u001b[0m\u001b[1;33m\u001b[0m\u001b[1;33m\u001b[0m\u001b[0m\n\u001b[0;32m      6\u001b[0m \u001b[1;31m#print(a-b)\u001b[0m\u001b[1;33m\u001b[0m\u001b[1;33m\u001b[0m\u001b[0m\n\u001b[1;32m----> 7\u001b[1;33m \u001b[0mprint\u001b[0m\u001b[1;33m(\u001b[0m\u001b[0ma\u001b[0m\u001b[1;33m/\u001b[0m\u001b[0mb\u001b[0m\u001b[1;33m)\u001b[0m\u001b[1;33m\u001b[0m\u001b[1;33m\u001b[0m\u001b[0m\n\u001b[0m\u001b[0;32m      8\u001b[0m \u001b[0mprint\u001b[0m\u001b[1;33m(\u001b[0m\u001b[0ma\u001b[0m\u001b[1;33m>\u001b[0m\u001b[0mb\u001b[0m\u001b[1;33m)\u001b[0m\u001b[1;33m\u001b[0m\u001b[1;33m\u001b[0m\u001b[0m\n\u001b[0;32m      9\u001b[0m \u001b[0mprint\u001b[0m\u001b[1;33m(\u001b[0m\u001b[0ma\u001b[0m\u001b[1;33m<\u001b[0m\u001b[0mb\u001b[0m\u001b[1;33m)\u001b[0m\u001b[1;33m\u001b[0m\u001b[1;33m\u001b[0m\u001b[0m\n",
      "\u001b[1;31mTypeError\u001b[0m: unsupported operand type(s) for /: 'dict' and 'dict'"
     ]
    }
   ],
   "source": [
    "a={'s':1245,'b':125,'c':1234}\n",
    "b={'d':874864,'r':64154,'w':545}\n",
    "\n",
    "#print(a+b)\n",
    "#print(a*b)\n",
    "#print(a-b)\n",
    "print(a/b)\n",
    "print(a>b)\n",
    "print(a<b)"
   ]
  },
  {
   "cell_type": "code",
   "execution_count": 33,
   "id": "6ef00e93",
   "metadata": {},
   "outputs": [
    {
     "ename": "TypeError",
     "evalue": "unsupported operand type(s) for /: 'dict' and 'set'",
     "output_type": "error",
     "traceback": [
      "\u001b[1;31m---------------------------------------------------------------------------\u001b[0m",
      "\u001b[1;31mTypeError\u001b[0m                                 Traceback (most recent call last)",
      "\u001b[1;32m~\\AppData\\Local\\Temp/ipykernel_12272/1600931476.py\u001b[0m in \u001b[0;36m<module>\u001b[1;34m\u001b[0m\n\u001b[0;32m      5\u001b[0m \u001b[1;31m#print(a*b)\u001b[0m\u001b[1;33m\u001b[0m\u001b[1;33m\u001b[0m\u001b[0m\n\u001b[0;32m      6\u001b[0m \u001b[1;31m#print(a-b)\u001b[0m\u001b[1;33m\u001b[0m\u001b[1;33m\u001b[0m\u001b[0m\n\u001b[1;32m----> 7\u001b[1;33m \u001b[0mprint\u001b[0m\u001b[1;33m(\u001b[0m\u001b[0ma\u001b[0m\u001b[1;33m/\u001b[0m\u001b[0mb\u001b[0m\u001b[1;33m)\u001b[0m\u001b[1;33m\u001b[0m\u001b[1;33m\u001b[0m\u001b[0m\n\u001b[0m\u001b[0;32m      8\u001b[0m \u001b[0mprint\u001b[0m\u001b[1;33m(\u001b[0m\u001b[0ma\u001b[0m\u001b[1;33m>\u001b[0m\u001b[0mb\u001b[0m\u001b[1;33m)\u001b[0m\u001b[1;33m\u001b[0m\u001b[1;33m\u001b[0m\u001b[0m\n\u001b[0;32m      9\u001b[0m \u001b[0mprint\u001b[0m\u001b[1;33m(\u001b[0m\u001b[0ma\u001b[0m\u001b[1;33m<\u001b[0m\u001b[0mb\u001b[0m\u001b[1;33m)\u001b[0m\u001b[1;33m\u001b[0m\u001b[1;33m\u001b[0m\u001b[0m\n",
      "\u001b[1;31mTypeError\u001b[0m: unsupported operand type(s) for /: 'dict' and 'set'"
     ]
    }
   ],
   "source": [
    "a={'s':1245,'b':125,'c':1234}\n",
    "b={44,4,5,6,2,2,}\n",
    "\n",
    "#print(a+b)\n",
    "#print(a*b)\n",
    "#print(a-b)\n",
    "print(a/b)\n",
    "print(a>b)\n",
    "print(a<b)"
   ]
  },
  {
   "cell_type": "code",
   "execution_count": 34,
   "id": "a24bf287",
   "metadata": {},
   "outputs": [
    {
     "name": "stdout",
     "output_type": "stream",
     "text": [
      "{'jay': 2, 'vedha': 2, 'chaithu': 1, 'ram': 1, 'anvesh': 1}\n"
     ]
    }
   ],
   "source": [
    "l=['jay','vedha','chaithu','jay','ram','anvesh','vedha']\n",
    "d={}\n",
    "\n",
    "for i in l:\n",
    "    if i not in d:\n",
    "        d[i]=1\n",
    "    else:\n",
    "        d[i]+=1\n",
    "print(d)\n",
    "        \n",
    "    "
   ]
  },
  {
   "cell_type": "code",
   "execution_count": null,
   "id": "7b4af4f5",
   "metadata": {},
   "outputs": [],
   "source": []
  }
 ],
 "metadata": {
  "kernelspec": {
   "display_name": "Python 3 (ipykernel)",
   "language": "python",
   "name": "python3"
  },
  "language_info": {
   "codemirror_mode": {
    "name": "ipython",
    "version": 3
   },
   "file_extension": ".py",
   "mimetype": "text/x-python",
   "name": "python",
   "nbconvert_exporter": "python",
   "pygments_lexer": "ipython3",
   "version": "3.9.7"
  }
 },
 "nbformat": 4,
 "nbformat_minor": 5
}
